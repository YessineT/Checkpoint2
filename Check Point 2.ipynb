{
 "cells": [
  {
   "cell_type": "markdown",
   "id": "fe24c4e2",
   "metadata": {},
   "source": [
    "# Question1"
   ]
  },
  {
   "cell_type": "code",
   "execution_count": 3,
   "id": "dd9d8e57",
   "metadata": {},
   "outputs": [
    {
     "data": {
      "text/plain": [
       "[2002,\n",
       " 2009,\n",
       " 2016,\n",
       " 2023,\n",
       " 2037,\n",
       " 2044,\n",
       " 2051,\n",
       " 2058,\n",
       " 2072,\n",
       " 2079,\n",
       " 2086,\n",
       " 2093,\n",
       " 2107,\n",
       " 2114,\n",
       " 2121,\n",
       " 2128,\n",
       " 2142,\n",
       " 2149,\n",
       " 2156,\n",
       " 2163,\n",
       " 2177,\n",
       " 2184,\n",
       " 2191,\n",
       " 2198,\n",
       " 2212,\n",
       " 2219,\n",
       " 2226,\n",
       " 2233,\n",
       " 2247,\n",
       " 2254,\n",
       " 2261,\n",
       " 2268,\n",
       " 2282,\n",
       " 2289,\n",
       " 2296,\n",
       " 2303,\n",
       " 2317,\n",
       " 2324,\n",
       " 2331,\n",
       " 2338,\n",
       " 2352,\n",
       " 2359,\n",
       " 2366,\n",
       " 2373,\n",
       " 2387,\n",
       " 2394,\n",
       " 2401,\n",
       " 2408,\n",
       " 2422,\n",
       " 2429,\n",
       " 2436,\n",
       " 2443,\n",
       " 2457,\n",
       " 2464,\n",
       " 2471,\n",
       " 2478,\n",
       " 2492,\n",
       " 2499,\n",
       " 2506,\n",
       " 2513,\n",
       " 2527,\n",
       " 2534,\n",
       " 2541,\n",
       " 2548,\n",
       " 2562,\n",
       " 2569,\n",
       " 2576,\n",
       " 2583,\n",
       " 2597,\n",
       " 2604,\n",
       " 2611,\n",
       " 2618,\n",
       " 2632,\n",
       " 2639,\n",
       " 2646,\n",
       " 2653,\n",
       " 2667,\n",
       " 2674,\n",
       " 2681,\n",
       " 2688,\n",
       " 2702,\n",
       " 2709,\n",
       " 2716,\n",
       " 2723,\n",
       " 2737,\n",
       " 2744,\n",
       " 2751,\n",
       " 2758,\n",
       " 2772,\n",
       " 2779,\n",
       " 2786,\n",
       " 2793,\n",
       " 2807,\n",
       " 2814,\n",
       " 2821,\n",
       " 2828,\n",
       " 2842,\n",
       " 2849,\n",
       " 2856,\n",
       " 2863,\n",
       " 2877,\n",
       " 2884,\n",
       " 2891,\n",
       " 2898,\n",
       " 2912,\n",
       " 2919,\n",
       " 2926,\n",
       " 2933,\n",
       " 2947,\n",
       " 2954,\n",
       " 2961,\n",
       " 2968,\n",
       " 2982,\n",
       " 2989,\n",
       " 2996,\n",
       " 3003,\n",
       " 3017,\n",
       " 3024,\n",
       " 3031,\n",
       " 3038,\n",
       " 3052,\n",
       " 3059,\n",
       " 3066,\n",
       " 3073,\n",
       " 3087,\n",
       " 3094,\n",
       " 3101,\n",
       " 3108,\n",
       " 3122,\n",
       " 3129,\n",
       " 3136,\n",
       " 3143,\n",
       " 3157,\n",
       " 3164,\n",
       " 3171,\n",
       " 3178,\n",
       " 3192,\n",
       " 3199]"
      ]
     },
     "execution_count": 3,
     "metadata": {},
     "output_type": "execute_result"
    }
   ],
   "source": [
    "list=[]\n",
    "for x in range(2000,3201):\n",
    "    if x%5!=0:\n",
    "        if x%7==0:\n",
    "            list.append(x)\n",
    "list    "
   ]
  },
  {
   "cell_type": "markdown",
   "id": "63b96ee2",
   "metadata": {},
   "source": [
    "# Question2"
   ]
  },
  {
   "cell_type": "code",
   "execution_count": 2,
   "id": "fb27d8b5",
   "metadata": {},
   "outputs": [
    {
     "name": "stdout",
     "output_type": "stream",
     "text": [
      "select a number: 5\n",
      "120\n"
     ]
    }
   ],
   "source": [
    "x=int(input('select a number: '))\n",
    "f=1\n",
    "if x==0:\n",
    "    print(f)\n",
    "else:\n",
    "    for i in range(x):\n",
    "        f=f*(x-i)\n",
    "    print(f)"
   ]
  },
  {
   "cell_type": "markdown",
   "id": "0c0f3a6b",
   "metadata": {},
   "source": [
    "# Question3"
   ]
  },
  {
   "cell_type": "code",
   "execution_count": 1,
   "id": "187d0d28",
   "metadata": {},
   "outputs": [
    {
     "name": "stdout",
     "output_type": "stream",
     "text": [
      "select a number: 5\n",
      "{1: 1, 2: 4, 3: 9, 4: 16, 5: 25}\n"
     ]
    }
   ],
   "source": [
    "x=int(input('select a number: '))\n",
    "dictionary={}\n",
    "for i in range (1,x+1):\n",
    "    dictionary.update({i:i*i})\n",
    "print(dictionary)"
   ]
  },
  {
   "cell_type": "markdown",
   "id": "887f1a04",
   "metadata": {},
   "source": [
    "# Question4"
   ]
  },
  {
   "cell_type": "code",
   "execution_count": 4,
   "id": "60cfd4c9",
   "metadata": {},
   "outputs": [
    {
     "name": "stdout",
     "output_type": "stream",
     "text": [
      "write a string: hotels\n",
      "select a number: 10\n",
      "select a number: 6\n",
      "select a number: 3\n",
      "hotls\n"
     ]
    }
   ],
   "source": [
    "string=input('write a string: ')\n",
    "new_string=''\n",
    "ok = False\n",
    "\n",
    "while not ok:\n",
    "    x = int(input('select a number: '))\n",
    "    ok= 0<=x<len(string)\n",
    "\n",
    "\n",
    "for i in range (0,len(string)):\n",
    "    if i!=x:\n",
    "        new_string+=string[i]\n",
    " \n",
    "print(new_string)\n"
   ]
  },
  {
   "cell_type": "markdown",
   "id": "7db862e0",
   "metadata": {},
   "source": [
    "# Question5"
   ]
  },
  {
   "cell_type": "code",
   "execution_count": 5,
   "id": "f04701fe",
   "metadata": {},
   "outputs": [
    {
     "name": "stdout",
     "output_type": "stream",
     "text": [
      "[[0 1]\n",
      " [2 3]\n",
      " [4 5]]\n",
      "[[0, 1], [2, 3], [4, 5]]\n"
     ]
    }
   ],
   "source": [
    "import numpy as np\n",
    "array=np.array([[0,1],[2,3],[4,5]])\n",
    "print(array)\n",
    "array=array.tolist()\n",
    "print(array)"
   ]
  },
  {
   "cell_type": "markdown",
   "id": "5729869f",
   "metadata": {},
   "source": [
    "# Question6"
   ]
  },
  {
   "cell_type": "code",
   "execution_count": 9,
   "id": "62aa73a1",
   "metadata": {},
   "outputs": [
    {
     "name": "stdout",
     "output_type": "stream",
     "text": [
      "[[2 5 8]] [[3 7 8]]\n",
      "[[9.  7.5]\n",
      " [7.5 7. ]]\n"
     ]
    }
   ],
   "source": [
    "import numpy as np\n",
    "array1=np.random.randint(0,11,size=(1,3))\n",
    "array2=np.random.randint(0,11,size=(1,3))\n",
    "print(array1,array2)\n",
    "print(np.cov(array1,array2))"
   ]
  },
  {
   "cell_type": "markdown",
   "id": "6ef540e1",
   "metadata": {},
   "source": [
    "# Question7"
   ]
  },
  {
   "cell_type": "code",
   "execution_count": 10,
   "id": "56e7f8db",
   "metadata": {},
   "outputs": [
    {
     "name": "stdout",
     "output_type": "stream",
     "text": [
      "select a number: 1000\n",
      "select a number: 1500\n",
      "select a number: 1800\n",
      "1000,1500,1800\n",
      "58,71,77\n"
     ]
    }
   ],
   "source": [
    "import math\n",
    "C=50\n",
    "H=30\n",
    "\n",
    "def inter():\n",
    "    x=int(input('select a number: '))\n",
    "    while x<0:\n",
    "        x=int(input('select a number: '))\n",
    "    return x\n",
    "\n",
    "D=str(inter())+','+str(inter())+','+str(inter())\n",
    "\n",
    "\n",
    "d1=int(D[0:D.find(',')])\n",
    "d2=int(D[(D.find(',')+1):D.find(',',D.find(',')+1,len(D))])\n",
    "d3=int(D[D.find(',',D.find(',')+1,len(D))+1:len(D)])\n",
    "\n",
    "Q1=round(math.sqrt((2*C*d1)/H))\n",
    "Q2=round(math.sqrt((2*C*d2)/H))\n",
    "Q3=round(math.sqrt((2*C*d3)/H))\n",
    "\n",
    "Q=str(Q1)+','+str(Q2)+','+str(Q3)\n",
    "print(D)\n",
    "print(Q)"
   ]
  }
 ],
 "metadata": {
  "kernelspec": {
   "display_name": "Python 3 (ipykernel)",
   "language": "python",
   "name": "python3"
  },
  "language_info": {
   "codemirror_mode": {
    "name": "ipython",
    "version": 3
   },
   "file_extension": ".py",
   "mimetype": "text/x-python",
   "name": "python",
   "nbconvert_exporter": "python",
   "pygments_lexer": "ipython3",
   "version": "3.9.12"
  }
 },
 "nbformat": 4,
 "nbformat_minor": 5
}
