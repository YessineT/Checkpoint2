{
 "cells": [
  {
   "cell_type": "markdown",
   "id": "c2807ff4",
   "metadata": {},
   "source": [
    "# Question1"
   ]
  },
  {
   "cell_type": "code",
   "execution_count": 1,
   "id": "bb831c7b",
   "metadata": {},
   "outputs": [
    {
     "data": {
      "text/plain": [
       "[2002,\n",
       " 2009,\n",
       " 2016,\n",
       " 2023,\n",
       " 2037,\n",
       " 2044,\n",
       " 2051,\n",
       " 2058,\n",
       " 2072,\n",
       " 2079,\n",
       " 2086,\n",
       " 2093,\n",
       " 2107,\n",
       " 2114,\n",
       " 2121,\n",
       " 2128,\n",
       " 2142,\n",
       " 2149,\n",
       " 2156,\n",
       " 2163,\n",
       " 2177,\n",
       " 2184,\n",
       " 2191,\n",
       " 2198,\n",
       " 2212,\n",
       " 2219,\n",
       " 2226,\n",
       " 2233,\n",
       " 2247,\n",
       " 2254,\n",
       " 2261,\n",
       " 2268,\n",
       " 2282,\n",
       " 2289,\n",
       " 2296,\n",
       " 2303,\n",
       " 2317,\n",
       " 2324,\n",
       " 2331,\n",
       " 2338,\n",
       " 2352,\n",
       " 2359,\n",
       " 2366,\n",
       " 2373,\n",
       " 2387,\n",
       " 2394,\n",
       " 2401,\n",
       " 2408,\n",
       " 2422,\n",
       " 2429,\n",
       " 2436,\n",
       " 2443,\n",
       " 2457,\n",
       " 2464,\n",
       " 2471,\n",
       " 2478,\n",
       " 2492,\n",
       " 2499,\n",
       " 2506,\n",
       " 2513,\n",
       " 2527,\n",
       " 2534,\n",
       " 2541,\n",
       " 2548,\n",
       " 2562,\n",
       " 2569,\n",
       " 2576,\n",
       " 2583,\n",
       " 2597,\n",
       " 2604,\n",
       " 2611,\n",
       " 2618,\n",
       " 2632,\n",
       " 2639,\n",
       " 2646,\n",
       " 2653,\n",
       " 2667,\n",
       " 2674,\n",
       " 2681,\n",
       " 2688,\n",
       " 2702,\n",
       " 2709,\n",
       " 2716,\n",
       " 2723,\n",
       " 2737,\n",
       " 2744,\n",
       " 2751,\n",
       " 2758,\n",
       " 2772,\n",
       " 2779,\n",
       " 2786,\n",
       " 2793,\n",
       " 2807,\n",
       " 2814,\n",
       " 2821,\n",
       " 2828,\n",
       " 2842,\n",
       " 2849,\n",
       " 2856,\n",
       " 2863,\n",
       " 2877,\n",
       " 2884,\n",
       " 2891,\n",
       " 2898,\n",
       " 2912,\n",
       " 2919,\n",
       " 2926,\n",
       " 2933,\n",
       " 2947,\n",
       " 2954,\n",
       " 2961,\n",
       " 2968,\n",
       " 2982,\n",
       " 2989,\n",
       " 2996,\n",
       " 3003,\n",
       " 3017,\n",
       " 3024,\n",
       " 3031,\n",
       " 3038,\n",
       " 3052,\n",
       " 3059,\n",
       " 3066,\n",
       " 3073,\n",
       " 3087,\n",
       " 3094,\n",
       " 3101,\n",
       " 3108,\n",
       " 3122,\n",
       " 3129,\n",
       " 3136,\n",
       " 3143,\n",
       " 3157,\n",
       " 3164,\n",
       " 3171,\n",
       " 3178,\n",
       " 3192,\n",
       " 3199]"
      ]
     },
     "execution_count": 1,
     "metadata": {},
     "output_type": "execute_result"
    }
   ],
   "source": [
    "list=[]\n",
    "for x in range(2000,3201):\n",
    "    if x%5!=0 and x%7==0:\n",
    "        list.append(x)\n",
    "list"
   ]
  },
  {
   "cell_type": "markdown",
   "id": "cdd4e045",
   "metadata": {},
   "source": [
    "# Question2"
   ]
  },
  {
   "cell_type": "code",
   "execution_count": 2,
   "id": "eae960cf",
   "metadata": {},
   "outputs": [
    {
     "name": "stdout",
     "output_type": "stream",
     "text": [
      "select a number: 6\n",
      "720\n"
     ]
    }
   ],
   "source": [
    "x=int(input('select a number: '))\n",
    "f=1\n",
    "if x==0:\n",
    "    print(f)\n",
    "else:\n",
    "    for i in range(x):\n",
    "        f=f*(x-i)\n",
    "    print(f)"
   ]
  },
  {
   "cell_type": "markdown",
   "id": "704fdf71",
   "metadata": {},
   "source": [
    "# Question3"
   ]
  },
  {
   "cell_type": "code",
   "execution_count": 3,
   "id": "6a277aad",
   "metadata": {},
   "outputs": [
    {
     "name": "stdout",
     "output_type": "stream",
     "text": [
      "select a number: 7\n",
      "{1: 1, 2: 4, 3: 9, 4: 16, 5: 25, 6: 36, 7: 49}\n"
     ]
    }
   ],
   "source": [
    "x=int(input('select a number: '))\n",
    "dictionary={}\n",
    "for i in range (1,x+1):\n",
    "    dictionary.update({i:i*i})\n",
    "print(dictionary)"
   ]
  },
  {
   "cell_type": "markdown",
   "id": "5d0acd1a",
   "metadata": {},
   "source": [
    "# Question4"
   ]
  },
  {
   "cell_type": "code",
   "execution_count": 4,
   "id": "1b43ba96",
   "metadata": {},
   "outputs": [
    {
     "name": "stdout",
     "output_type": "stream",
     "text": [
      "write a string: hotels\n",
      "select a number: 7\n",
      "select a number: 10\n",
      "select a number: 4\n",
      "hotes\n"
     ]
    }
   ],
   "source": [
    "string=input('write a string: ')\n",
    "new_string=''\n",
    "ok = False\n",
    "\n",
    "while not ok:\n",
    "    x = int(input('select a number: '))\n",
    "    ok= 0<=x<len(string)\n",
    "\n",
    "\n",
    "for i in range (0,len(string)):\n",
    "    if i!=x:\n",
    "        new_string+=string[i]\n",
    " \n",
    "print(new_string)\n"
   ]
  },
  {
   "cell_type": "markdown",
   "id": "1668da23",
   "metadata": {},
   "source": [
    "# Question5"
   ]
  },
  {
   "cell_type": "code",
   "execution_count": 5,
   "id": "91313c27",
   "metadata": {},
   "outputs": [
    {
     "name": "stdout",
     "output_type": "stream",
     "text": [
      "[[0 1]\n",
      " [2 3]\n",
      " [4 5]]\n",
      "[[0, 1], [2, 3], [4, 5]]\n"
     ]
    }
   ],
   "source": [
    "import numpy as np\n",
    "array=np.array([[0,1],[2,3],[4,5]])\n",
    "print(array)\n",
    "array=array.tolist()\n",
    "print(array)"
   ]
  },
  {
   "cell_type": "markdown",
   "id": "8aaf4d7b",
   "metadata": {},
   "source": [
    "# Question6"
   ]
  },
  {
   "cell_type": "code",
   "execution_count": 6,
   "id": "ec681261",
   "metadata": {},
   "outputs": [
    {
     "name": "stdout",
     "output_type": "stream",
     "text": [
      "[[0 2 4]] [[8 1 1]]\n",
      "[[ 4.         -7.        ]\n",
      " [-7.         16.33333333]]\n"
     ]
    }
   ],
   "source": [
    "import numpy as np\n",
    "array1=np.random.randint(0,11,size=(1,3))\n",
    "array2=np.random.randint(0,11,size=(1,3))\n",
    "print(array1,array2)\n",
    "print(np.cov(array1,array2))"
   ]
  },
  {
   "cell_type": "markdown",
   "id": "fc86dd78",
   "metadata": {},
   "source": [
    "# Question7"
   ]
  },
  {
   "cell_type": "code",
   "execution_count": 7,
   "id": "1a366171",
   "metadata": {},
   "outputs": [
    {
     "name": "stdout",
     "output_type": "stream",
     "text": [
      "140,200,580,60\n",
      "22,26,44,14\n"
     ]
    }
   ],
   "source": [
    "import math as m\n",
    "C=50\n",
    "H=30\n",
    "Q=''\n",
    "D=input()\n",
    "list=D.split(',')\n",
    "for i in  range (len(list)):\n",
    "    q=round(m.sqrt((2*C*int(list[i]))/H))\n",
    "    if i==len(list)-1:\n",
    "        Q+=str(q)\n",
    "    else:\n",
    "        Q+=str(q)+','\n",
    "print(Q)"
   ]
  },
  {
   "cell_type": "code",
   "execution_count": null,
   "id": "c168406e",
   "metadata": {},
   "outputs": [],
   "source": []
  }
 ],
 "metadata": {
  "kernelspec": {
   "display_name": "Python 3 (ipykernel)",
   "language": "python",
   "name": "python3"
  },
  "language_info": {
   "codemirror_mode": {
    "name": "ipython",
    "version": 3
   },
   "file_extension": ".py",
   "mimetype": "text/x-python",
   "name": "python",
   "nbconvert_exporter": "python",
   "pygments_lexer": "ipython3",
   "version": "3.9.12"
  }
 },
 "nbformat": 4,
 "nbformat_minor": 5
}
